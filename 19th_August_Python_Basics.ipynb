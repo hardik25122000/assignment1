{
 "cells": [
  {
   "cell_type": "code",
   "execution_count": 17,
   "id": "5f3dc508-99b5-407f-8b67-7621a91cb7e3",
   "metadata": {},
   "outputs": [],
   "source": [
    "#TOPIC: Python Basics Variable\n",
    "#answer1\n",
    "x,y=7,9"
   ]
  },
  {
   "cell_type": "code",
   "execution_count": 2,
   "id": "c2351e64-d50b-4a27-bb9f-f89dde7196b9",
   "metadata": {},
   "outputs": [
    {
     "data": {
      "text/plain": [
       "(7, 9)"
      ]
     },
     "execution_count": 2,
     "metadata": {},
     "output_type": "execute_result"
    }
   ],
   "source": [
    "x,y"
   ]
  },
  {
   "cell_type": "code",
   "execution_count": 3,
   "id": "56c502a1-55de-4cc2-96e0-d50d716b9bec",
   "metadata": {},
   "outputs": [],
   "source": [
    "x,y=y,x"
   ]
  },
  {
   "cell_type": "code",
   "execution_count": 4,
   "id": "dfd25cce-83b9-4eec-8168-364d302b3623",
   "metadata": {},
   "outputs": [
    {
     "data": {
      "text/plain": [
       "(9, 7)"
      ]
     },
     "execution_count": 4,
     "metadata": {},
     "output_type": "execute_result"
    }
   ],
   "source": [
    "x,y"
   ]
  },
  {
   "cell_type": "code",
   "execution_count": null,
   "id": "e4e98a2e-6b43-4408-a61e-e88d91e0335c",
   "metadata": {},
   "outputs": [],
   "source": [
    "#answer2"
   ]
  },
  {
   "cell_type": "code",
   "execution_count": 9,
   "id": "f60c4485-947e-4195-85ac-2d20b69995f7",
   "metadata": {},
   "outputs": [
    {
     "name": "stdin",
     "output_type": "stream",
     "text": [
      "Enter the length of the rectangle:  9.3\n",
      "Enter the width of the rectangle:  7.3\n"
     ]
    },
    {
     "name": "stdout",
     "output_type": "stream",
     "text": [
      "The area of the rectangle is 67.89.\n"
     ]
    }
   ],
   "source": [
    "# Take length and width as inputs from the user\n",
    "length = float(input(\"Enter the length of the rectangle: \"))\n",
    "width = float(input(\"Enter the width of the rectangle: \"))\n",
    "\n",
    "# Calculate area\n",
    "area = length * width\n",
    "\n",
    "# Display area\n",
    "print(f\"The area of the rectangle is {area}.\")\n"
   ]
  },
  {
   "cell_type": "code",
   "execution_count": null,
   "id": "b76123da-5a52-4fde-bce0-b620358b256a",
   "metadata": {},
   "outputs": [],
   "source": [
    "#answer3"
   ]
  },
  {
   "cell_type": "code",
   "execution_count": 14,
   "id": "e71a6168-cb5a-40d3-9547-6341e7c8eca7",
   "metadata": {},
   "outputs": [
    {
     "name": "stdin",
     "output_type": "stream",
     "text": [
      "Enter temperature in Celsius:  99\n"
     ]
    },
    {
     "name": "stdout",
     "output_type": "stream",
     "text": [
      "99.0°C is equal to 210.20000000000002°F\n"
     ]
    }
   ],
   "source": [
    "celsius = float(input(\"Enter temperature in Celsius: \"))\n",
    "fahrenheit = (celsius * 1.8) + 32\n",
    "print(f\"{celsius}°C is equal to {fahrenheit}°F\")\n"
   ]
  },
  {
   "cell_type": "code",
   "execution_count": null,
   "id": "90cc6351-f29e-45aa-9930-bcb1289bbcba",
   "metadata": {},
   "outputs": [],
   "source": [
    "#TOPIC: String Based Questions\n",
    "#answer1"
   ]
  },
  {
   "cell_type": "code",
   "execution_count": 20,
   "id": "7c9e9aea-fcc6-4e14-bdcc-d3b1c35bc09d",
   "metadata": {},
   "outputs": [
    {
     "name": "stdin",
     "output_type": "stream",
     "text": [
      "Enter a string:  hardik\n"
     ]
    },
    {
     "name": "stdout",
     "output_type": "stream",
     "text": [
      "Length of the input string is: 6\n"
     ]
    }
   ],
   "source": [
    "string = input(\"Enter a string: \")\n",
    "print(\"Length of the input string is:\", len(string))\n"
   ]
  },
  {
   "cell_type": "code",
   "execution_count": 21,
   "id": "072ffe87-a92f-4bfb-b6a3-d21661eddd50",
   "metadata": {},
   "outputs": [],
   "source": [
    "#answer2"
   ]
  },
  {
   "cell_type": "code",
   "execution_count": 22,
   "id": "8c21e178-cbcc-4d84-9adc-5fc81fbe1f5b",
   "metadata": {},
   "outputs": [
    {
     "name": "stdin",
     "output_type": "stream",
     "text": [
      "Enter a sentence:  my name is hardik\n"
     ]
    },
    {
     "name": "stdout",
     "output_type": "stream",
     "text": [
      "The number of vowels in the sentence is 5.\n"
     ]
    }
   ],
   "source": [
    "def count_vowels(string):\n",
    "    vowels = 'aeiou'\n",
    "    count = 0\n",
    "    for char in string:\n",
    "        if char in vowels:\n",
    "            count += 1\n",
    "    return count\n",
    "\n",
    "sentence = input('Enter a sentence: ')\n",
    "print(f'The number of vowels in the sentence is {count_vowels(sentence)}.')\n"
   ]
  },
  {
   "cell_type": "code",
   "execution_count": 23,
   "id": "508b6733-ec26-4ec4-bb4b-da4e6bb2d7e2",
   "metadata": {},
   "outputs": [],
   "source": [
    "#answer3"
   ]
  },
  {
   "cell_type": "code",
   "execution_count": 24,
   "id": "e9ba54c4-774f-43e1-9d24-b52cc779150e",
   "metadata": {},
   "outputs": [
    {
     "name": "stdout",
     "output_type": "stream",
     "text": [
      "!dlroW ,olleH\n"
     ]
    }
   ],
   "source": [
    "string = \"Hello, World!\"\n",
    "reversed_string = string[::-1]\n",
    "print(reversed_string)\n"
   ]
  },
  {
   "cell_type": "code",
   "execution_count": 25,
   "id": "ff7aa71c-2f4a-406c-935b-e8b01927bb0f",
   "metadata": {},
   "outputs": [],
   "source": [
    "#answer4"
   ]
  },
  {
   "cell_type": "code",
   "execution_count": 29,
   "id": "175b3ff4-0a9a-4e6c-8118-986e3a9b470f",
   "metadata": {},
   "outputs": [
    {
     "name": "stdin",
     "output_type": "stream",
     "text": [
      "Enter a string:  racecar\n"
     ]
    },
    {
     "name": "stdout",
     "output_type": "stream",
     "text": [
      "racecar is a palindrome\n"
     ]
    }
   ],
   "source": [
    "def is_palindrome(s: str) -> bool:\n",
    "    return s == s[::-1]\n",
    "\n",
    "string = input(\"Enter a string: \")\n",
    "if is_palindrome(string):\n",
    "    print(f\"{string} is a palindrome\")\n",
    "else:\n",
    "    print(f\"{string} is not a palindrome\")\n"
   ]
  },
  {
   "cell_type": "code",
   "execution_count": 31,
   "id": "44540d1c-23b1-46ef-ae8b-793d83231c57",
   "metadata": {},
   "outputs": [],
   "source": [
    "#answer5"
   ]
  },
  {
   "cell_type": "code",
   "execution_count": 43,
   "id": "ba95d8b1-c850-4788-9f25-d53f58d81a30",
   "metadata": {},
   "outputs": [
    {
     "name": "stdin",
     "output_type": "stream",
     "text": [
      "Enter a string:  gerg ef\n"
     ]
    },
    {
     "name": "stdout",
     "output_type": "stream",
     "text": [
      "Modified string without spaces: gergef\n"
     ]
    }
   ],
   "source": [
    "# Get input for a string from user\n",
    "string = input(\"Enter a string: \")\n",
    "\n",
    "# Remove spaces from the string\n",
    "string_without_spaces = string.replace(\" \", \"\")\n",
    "\n",
    "# Print the modified string without spaces\n",
    "print(\"Modified string without spaces:\", string_without_spaces)\n"
   ]
  },
  {
   "cell_type": "code",
   "execution_count": null,
   "id": "2441338e-c204-44d1-bdc6-8a8a96192dfe",
   "metadata": {},
   "outputs": [],
   "source": []
  }
 ],
 "metadata": {
  "kernelspec": {
   "display_name": "Python 3 (ipykernel)",
   "language": "python",
   "name": "python3"
  },
  "language_info": {
   "codemirror_mode": {
    "name": "ipython",
    "version": 3
   },
   "file_extension": ".py",
   "mimetype": "text/x-python",
   "name": "python",
   "nbconvert_exporter": "python",
   "pygments_lexer": "ipython3",
   "version": "3.10.8"
  }
 },
 "nbformat": 4,
 "nbformat_minor": 5
}
